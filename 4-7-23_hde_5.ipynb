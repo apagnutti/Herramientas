{
 "cells": [
  {
   "cell_type": "code",
   "execution_count": 2,
   "metadata": {},
   "outputs": [],
   "source": [
    "import pandas as pd\n",
    "import numpy as np\n",
    "import scipy.stats as ss\n",
    "import statsmodels.stats.power as smp\n",
    "from statsmodels.stats.power import TTestIndPower\n",
    "import seaborn as sns\n",
    "import matplotlib.pyplot as plt"
   ]
  },
  {
   "cell_type": "code",
   "execution_count": 3,
   "metadata": {},
   "outputs": [],
   "source": [
    "def lista_a_coldf (lista, df, col):\n",
    "    \"\"\"Esta funcion toma una lista y la agrega como una nueva columna a un datafram\n",
    "    lista debe ser lista\n",
    "    df debe ser dataframe\n",
    "    col debe ser un string con el nombre de la nueva columna\"\"\"\n",
    "    #Genera columna vacía en el df\n",
    "    df[col]=0\n",
    "    #Agrega los valores de la lista en la columna\n",
    "    for i, valor in enumerate(lista):\n",
    "        df[col][i]= str(valor)"
   ]
  },
  {
   "cell_type": "code",
   "execution_count": 4,
   "metadata": {},
   "outputs": [],
   "source": [
    "def hist_groupby_save (df, col, lista_grupos, opc_name=\"\"):\n",
    "    \"\"\" Esta funcion genera un grafico histograma\n",
    "    utiliza como variable la columna del dataframe, agrupado por la lista de grupos\n",
    "    df=dataframe\n",
    "    col=string nombre de columna a usar como variable\n",
    "    lista grupos= lista con nombres de columnas segun los que se hace el ggroupby\n",
    "    opc_name: argumento opcional, se agrega al nombre del archivo\n",
    "    Útil cuando un mismo dataframe es filtrado bajo diferentess condiciones\n",
    "    y se groupby por los mismos grupos\"\"\"\n",
    "    lista_str=\"\"\n",
    "    for grupo in lista_grupos:\n",
    "        lista_str += \" \"+str(grupo)\n",
    "    titulo=\"Histograma FR según\" + lista_str\n",
    "    df.groupby(lista_grupos, as_index=False)[col].plot.hist(alpha=0.7)\n",
    "    plt.title(titulo)\n",
    "    plt.xlabel(col)\n",
    "    plt.legend()\n",
    "    titulo=titulo.replace(\" \",\"_\")\n",
    "    if opc_name== False:\n",
    "        plt.savefig(titulo+\".png\")\n",
    "    else:\n",
    "        plt.savefig(titulo+str(opc_name)+\".png\")\n",
    "    plt.clf()"
   ]
  },
  {
   "cell_type": "code",
   "execution_count": 5,
   "metadata": {},
   "outputs": [],
   "source": [
    "#IMPORTO ARCHIVO\n",
    "\n",
    "path=r'D:/documentos/Beca Doctoral/Cursos/Curso Herramientas de estadistica/15-5-23_20MP6vs20MP6-15-4S_2.xlsx'\n",
    "\n",
    "fit=pd.read_excel(path,sheet_name=\"Hoja1\")"
   ]
  },
  {
   "cell_type": "code",
   "execution_count": 6,
   "metadata": {},
   "outputs": [],
   "source": [
    "# Obtengo los factores (correspondientes a las diluciones) utilizados en las condiciones inicial y final\n",
    "\n",
    "# Para ello creo un dataframe de cada una de las condiciones\n",
    "# Elijo un ATB y una Réplica al azar. En este paso no analizo los recuentos. Solo obtengo los valores de los factores.\n",
    "\n",
    "df_Sm_i=fit[(fit[\"ATB\"]==\"Sm400\") & (fit[\"Momento\"]==\"inicial\") & (fit[\"Replica\"]==0)]\n",
    "\n",
    "df_Sm_f_r1=fit[(fit[\"ATB\"]==\"Sm400\") & (fit[\"Momento\"]==\"final\") & (fit[\"Replica\"]==1)]\n",
    "\n",
    "#Creo listas de los factores utilizados en las condiciones iniciales y finales\n",
    "\n",
    "lista_fact_i=df_Sm_i[\"Factor\"].unique()\n",
    "lista_fact_f=df_Sm_f_r1[\"Factor\"].unique()\n",
    "\n",
    "#print(lista_fact_i,lista_fact_f)"
   ]
  },
  {
   "cell_type": "code",
   "execution_count": 7,
   "metadata": {},
   "outputs": [],
   "source": [
    "# El paso siguiente es eliminar los outliers dentro de cada uno de los 40 grupos\n",
    "# 40 grupos = 2 ATB * 4 Diluciones * (1 réplica en condición inicial + 4 réplicas biológicas en condición final)\n",
    "\n",
    "# Cada grupo contiene las 10 gotas = réplicas técnicas realizadas para esa condición.\n",
    "\n",
    "# En el momento inicial solo tengo una muestra. La plaqueo en 2 ATB para contar 2 Bacterias distintas.\n",
    "# La muestra se divide en 4 y se la deja crecer = 4 réplicas biologicas finales.\n",
    "\n",
    "# Las réplicas biológicas las analizo por separado."
   ]
  },
  {
   "cell_type": "code",
   "execution_count": 8,
   "metadata": {},
   "outputs": [],
   "source": [
    "#grupos: ATB, MOMENTO, REPLICA Y DILUCION\n",
    "\n",
    "#Sm inicial 4 diluciones\n",
    "df_Sm_i_d0=fit[(fit[\"ATB\"]==\"Sm400\") & (fit[\"Momento\"]==\"inicial\") & (fit[\"Replica\"]==0) & (fit[\"Factor\"]==lista_fact_i[0])]\n",
    "df_Sm_i_d1=fit[(fit[\"ATB\"]==\"Sm400\") & (fit[\"Momento\"]==\"inicial\") & (fit[\"Replica\"]==0) & (fit[\"Factor\"]==lista_fact_i[1])]\n",
    "df_Sm_i_d2=fit[(fit[\"ATB\"]==\"Sm400\") & (fit[\"Momento\"]==\"inicial\") & (fit[\"Replica\"]==0) & (fit[\"Factor\"]==lista_fact_i[2])]\n",
    "df_Sm_i_d3=fit[(fit[\"ATB\"]==\"Sm400\") & (fit[\"Momento\"]==\"inicial\") & (fit[\"Replica\"]==0) & (fit[\"Factor\"]==lista_fact_i[3])]\n",
    "\n",
    "#Nm inicial 4 diluciones\n",
    "df_Nm_i_d0=fit[(fit[\"ATB\"]==\"Nm100\") & (fit[\"Momento\"]==\"inicial\") & (fit[\"Replica\"]==0) & (fit[\"Factor\"]==lista_fact_i[0])]\n",
    "df_Nm_i_d1=fit[(fit[\"ATB\"]==\"Nm100\") & (fit[\"Momento\"]==\"inicial\") & (fit[\"Replica\"]==0) & (fit[\"Factor\"]==lista_fact_i[1])]\n",
    "df_Nm_i_d2=fit[(fit[\"ATB\"]==\"Nm100\") & (fit[\"Momento\"]==\"inicial\") & (fit[\"Replica\"]==0) & (fit[\"Factor\"]==lista_fact_i[2])]\n",
    "df_Nm_i_d3=fit[(fit[\"ATB\"]==\"Nm100\") & (fit[\"Momento\"]==\"inicial\") & (fit[\"Replica\"]==0) & (fit[\"Factor\"]==lista_fact_i[3])]\n",
    "\n",
    "#Sm final réplica bio1 4 diluciones\n",
    "df_Sm_f_r1_d0=fit[(fit[\"ATB\"]==\"Sm400\") & (fit[\"Momento\"]==\"final\") & (fit[\"Replica\"]==1) & (fit[\"Factor\"]==lista_fact_f[0])]\n",
    "df_Sm_f_r1_d1=fit[(fit[\"ATB\"]==\"Sm400\") & (fit[\"Momento\"]==\"final\") & (fit[\"Replica\"]==1) & (fit[\"Factor\"]==lista_fact_f[1])]\n",
    "df_Sm_f_r1_d2=fit[(fit[\"ATB\"]==\"Sm400\") & (fit[\"Momento\"]==\"final\") & (fit[\"Replica\"]==1) & (fit[\"Factor\"]==lista_fact_f[2])]\n",
    "df_Sm_f_r1_d3=fit[(fit[\"ATB\"]==\"Sm400\") & (fit[\"Momento\"]==\"final\") & (fit[\"Replica\"]==1) & (fit[\"Factor\"]==lista_fact_f[3])]\n",
    "\n",
    "#Sm final réplica bio2 4 diluciones\n",
    "df_Sm_f_r2_d0=fit[(fit[\"ATB\"]==\"Sm400\") & (fit[\"Momento\"]==\"final\") & (fit[\"Replica\"]==2) & (fit[\"Factor\"]==lista_fact_f[0])]\n",
    "df_Sm_f_r2_d1=fit[(fit[\"ATB\"]==\"Sm400\") & (fit[\"Momento\"]==\"final\") & (fit[\"Replica\"]==2) & (fit[\"Factor\"]==lista_fact_f[1])]\n",
    "df_Sm_f_r2_d2=fit[(fit[\"ATB\"]==\"Sm400\") & (fit[\"Momento\"]==\"final\") & (fit[\"Replica\"]==2) & (fit[\"Factor\"]==lista_fact_f[2])]\n",
    "df_Sm_f_r2_d3=fit[(fit[\"ATB\"]==\"Sm400\") & (fit[\"Momento\"]==\"final\") & (fit[\"Replica\"]==2) & (fit[\"Factor\"]==lista_fact_f[3])]\n",
    "\n",
    "#Sm final réplica bio3 4 diluciones\n",
    "df_Sm_f_r3_d0=fit[(fit[\"ATB\"]==\"Sm400\") & (fit[\"Momento\"]==\"final\") & (fit[\"Replica\"]==3) & (fit[\"Factor\"]==lista_fact_f[0])]\n",
    "df_Sm_f_r3_d1=fit[(fit[\"ATB\"]==\"Sm400\") & (fit[\"Momento\"]==\"final\") & (fit[\"Replica\"]==3) & (fit[\"Factor\"]==lista_fact_f[1])]\n",
    "df_Sm_f_r3_d2=fit[(fit[\"ATB\"]==\"Sm400\") & (fit[\"Momento\"]==\"final\") & (fit[\"Replica\"]==3) & (fit[\"Factor\"]==lista_fact_f[2])]\n",
    "df_Sm_f_r3_d3=fit[(fit[\"ATB\"]==\"Sm400\") & (fit[\"Momento\"]==\"final\") & (fit[\"Replica\"]==3) & (fit[\"Factor\"]==lista_fact_f[3])]\n",
    "\n",
    "#Sm final réplica bio4 4 diluciones\n",
    "df_Sm_f_r4_d0=fit[(fit[\"ATB\"]==\"Sm400\") & (fit[\"Momento\"]==\"final\") & (fit[\"Replica\"]==4) & (fit[\"Factor\"]==lista_fact_f[0])]\n",
    "df_Sm_f_r4_d1=fit[(fit[\"ATB\"]==\"Sm400\") & (fit[\"Momento\"]==\"final\") & (fit[\"Replica\"]==4) & (fit[\"Factor\"]==lista_fact_f[1])]\n",
    "df_Sm_f_r4_d2=fit[(fit[\"ATB\"]==\"Sm400\") & (fit[\"Momento\"]==\"final\") & (fit[\"Replica\"]==4) & (fit[\"Factor\"]==lista_fact_f[2])]\n",
    "df_Sm_f_r4_d3=fit[(fit[\"ATB\"]==\"Sm400\") & (fit[\"Momento\"]==\"final\") & (fit[\"Replica\"]==4) & (fit[\"Factor\"]==lista_fact_f[3])]\n",
    "\n",
    "#Nm final réplica bio1 4 diluciones\n",
    "df_Nm_f_r1_d0=fit[(fit[\"ATB\"]==\"Nm100\") & (fit[\"Momento\"]==\"final\") & (fit[\"Replica\"]==1) & (fit[\"Factor\"]==lista_fact_f[0])]\n",
    "df_Nm_f_r1_d1=fit[(fit[\"ATB\"]==\"Nm100\") & (fit[\"Momento\"]==\"final\") & (fit[\"Replica\"]==1) & (fit[\"Factor\"]==lista_fact_f[1])]\n",
    "df_Nm_f_r1_d2=fit[(fit[\"ATB\"]==\"Nm100\") & (fit[\"Momento\"]==\"final\") & (fit[\"Replica\"]==1) & (fit[\"Factor\"]==lista_fact_f[2])]\n",
    "df_Nm_f_r1_d3=fit[(fit[\"ATB\"]==\"Nm100\") & (fit[\"Momento\"]==\"final\") & (fit[\"Replica\"]==1) & (fit[\"Factor\"]==lista_fact_f[3])]\n",
    "\n",
    "#Nm final réplica bio2 4 diluciones\n",
    "df_Nm_f_r2_d0=fit[(fit[\"ATB\"]==\"Nm100\") & (fit[\"Momento\"]==\"final\") & (fit[\"Replica\"]==2) & (fit[\"Factor\"]==lista_fact_f[0])]\n",
    "df_Nm_f_r2_d1=fit[(fit[\"ATB\"]==\"Nm100\") & (fit[\"Momento\"]==\"final\") & (fit[\"Replica\"]==2) & (fit[\"Factor\"]==lista_fact_f[1])]\n",
    "df_Nm_f_r2_d2=fit[(fit[\"ATB\"]==\"Nm100\") & (fit[\"Momento\"]==\"final\") & (fit[\"Replica\"]==2) & (fit[\"Factor\"]==lista_fact_f[2])]\n",
    "df_Nm_f_r2_d3=fit[(fit[\"ATB\"]==\"Nm100\") & (fit[\"Momento\"]==\"final\") & (fit[\"Replica\"]==2) & (fit[\"Factor\"]==lista_fact_f[3])]\n",
    "\n",
    "#Nm final réplica bio3 4 diluciones\n",
    "df_Nm_f_r3_d0=fit[(fit[\"ATB\"]==\"Nm100\") & (fit[\"Momento\"]==\"final\") & (fit[\"Replica\"]==3) & (fit[\"Factor\"]==lista_fact_f[0])]\n",
    "df_Nm_f_r3_d1=fit[(fit[\"ATB\"]==\"Nm100\") & (fit[\"Momento\"]==\"final\") & (fit[\"Replica\"]==3) & (fit[\"Factor\"]==lista_fact_f[1])]\n",
    "df_Nm_f_r3_d2=fit[(fit[\"ATB\"]==\"Nm100\") & (fit[\"Momento\"]==\"final\") & (fit[\"Replica\"]==3) & (fit[\"Factor\"]==lista_fact_f[2])]\n",
    "df_Nm_f_r3_d3=fit[(fit[\"ATB\"]==\"Nm100\") & (fit[\"Momento\"]==\"final\") & (fit[\"Replica\"]==3) & (fit[\"Factor\"]==lista_fact_f[3])]\n",
    "\n",
    "#Nm final réplica bio1 4 diluciones\n",
    "df_Nm_f_r4_d0=fit[(fit[\"ATB\"]==\"Nm100\") & (fit[\"Momento\"]==\"final\") & (fit[\"Replica\"]==4) & (fit[\"Factor\"]==lista_fact_f[0])]\n",
    "df_Nm_f_r4_d1=fit[(fit[\"ATB\"]==\"Nm100\") & (fit[\"Momento\"]==\"final\") & (fit[\"Replica\"]==4) & (fit[\"Factor\"]==lista_fact_f[1])]\n",
    "df_Nm_f_r4_d2=fit[(fit[\"ATB\"]==\"Nm100\") & (fit[\"Momento\"]==\"final\") & (fit[\"Replica\"]==4) & (fit[\"Factor\"]==lista_fact_f[2])]\n",
    "df_Nm_f_r4_d3=fit[(fit[\"ATB\"]==\"Nm100\") & (fit[\"Momento\"]==\"final\") & (fit[\"Replica\"]==4) & (fit[\"Factor\"]==lista_fact_f[3])]"
   ]
  },
  {
   "cell_type": "code",
   "execution_count": 9,
   "metadata": {},
   "outputs": [],
   "source": [
    "#Genero una lista con todos los grupos: lista_df\n",
    "lista_df_Sm_i=[df_Sm_i_d0,df_Sm_i_d1,df_Sm_i_d2,df_Sm_i_d3]\n",
    "lista_df_Nm_i=[df_Nm_i_d0,df_Nm_i_d1,df_Nm_i_d2,df_Nm_i_d3]\n",
    "\n",
    "lista_df_Sm_f_r1=[df_Sm_f_r1_d0,df_Sm_f_r1_d1,df_Sm_f_r1_d2,df_Sm_f_r1_d3]\n",
    "lista_df_Sm_f_r2=[df_Sm_f_r2_d0,df_Sm_f_r2_d1,df_Sm_f_r2_d2,df_Sm_f_r2_d3]\n",
    "lista_df_Sm_f_r3=[df_Sm_f_r3_d0,df_Sm_f_r3_d1,df_Sm_f_r3_d2,df_Sm_f_r3_d3]\n",
    "lista_df_Sm_f_r4=[df_Sm_f_r4_d0,df_Sm_f_r4_d1,df_Sm_f_r4_d2,df_Sm_f_r4_d3]\n",
    "\n",
    "lista_df_Nm_f_r1=[df_Nm_f_r1_d0,df_Nm_f_r1_d1,df_Nm_f_r1_d2,df_Nm_f_r1_d3]\n",
    "lista_df_Nm_f_r2=[df_Nm_f_r2_d0,df_Nm_f_r2_d1,df_Nm_f_r2_d2,df_Nm_f_r2_d3]\n",
    "lista_df_Nm_f_r3=[df_Nm_f_r3_d0,df_Nm_f_r3_d1,df_Nm_f_r3_d2,df_Nm_f_r3_d3]\n",
    "lista_df_Nm_f_r4=[df_Nm_f_r4_d0,df_Nm_f_r4_d1,df_Nm_f_r4_d2,df_Nm_f_r4_d3]\n",
    "\n",
    "lista_df_i = lista_df_Sm_i + lista_df_Nm_i\n",
    "lista_df_Sm_f = lista_df_Sm_f_r1 + lista_df_Sm_f_r2 + lista_df_Sm_f_r3 + lista_df_Sm_f_r4\n",
    "lista_df_Nm_f = lista_df_Nm_f_r1 + lista_df_Nm_f_r2 + lista_df_Nm_f_r3 + lista_df_Nm_f_r4\n",
    "\n",
    "lista_df= lista_df_i + lista_df_Sm_f + lista_df_Nm_f"
   ]
  },
  {
   "cell_type": "code",
   "execution_count": 10,
   "metadata": {},
   "outputs": [
    {
     "data": {
      "text/plain": [
       "400"
      ]
     },
     "execution_count": 10,
     "metadata": {},
     "output_type": "execute_result"
    }
   ],
   "source": [
    "#Chequeo largo del df antes de dropear los NaN\n",
    "len(fit)"
   ]
  },
  {
   "cell_type": "code",
   "execution_count": 11,
   "metadata": {},
   "outputs": [],
   "source": [
    "#Elimino las gotas sin recuento\n",
    "fit=fit.dropna()"
   ]
  },
  {
   "cell_type": "code",
   "execution_count": 12,
   "metadata": {},
   "outputs": [
    {
     "data": {
      "text/plain": [
       "358"
      ]
     },
     "execution_count": 12,
     "metadata": {},
     "output_type": "execute_result"
    }
   ],
   "source": [
    "#Chequeo largo del df después de dropear los NaN\n",
    "len(fit)"
   ]
  },
  {
   "cell_type": "code",
   "execution_count": 13,
   "metadata": {},
   "outputs": [],
   "source": [
    "#Devuelve posiciones de los outliers\n",
    "\n",
    "# for grupo in lista_df_i:\n",
    "#     z = np.abs(ss.zscore(grupo[\"Recuento\"]))\n",
    "#     threshold = 1.9\n",
    "#     print(np.where(z > threshold))\n",
    "\n",
    "# for grupo in lista_df_Sm_f:\n",
    "#     z = np.abs(ss.zscore(grupo[\"Recuento\"]))\n",
    "#     threshold = 1.9\n",
    "#     print(np.where(z > threshold))\n",
    "\n",
    "# for grupo in lista_df_Nm_f:\n",
    "#     z = np.abs(ss.zscore(grupo[\"Recuento\"]))\n",
    "#     threshold = 1.9\n",
    "#     print(np.where(z > threshold))"
   ]
  },
  {
   "cell_type": "code",
   "execution_count": 14,
   "metadata": {},
   "outputs": [
    {
     "name": "stdout",
     "output_type": "stream",
     "text": [
      "358 331\n"
     ]
    }
   ],
   "source": [
    "#Genero Dataframe sin outliers\n",
    "\n",
    "fit_no_outliers=pd.DataFrame()\n",
    "\n",
    "for grupo in lista_df:\n",
    "    z = np.abs(ss.zscore(grupo[\"Recuento\"]))\n",
    "    threshold = 1.9\n",
    "    grupo = grupo[(z < threshold)]\n",
    "    fit_no_outliers=fit_no_outliers.append(grupo)\n",
    "    \n",
    "print(len(fit),len(fit_no_outliers))\n",
    "#Chequeo el largo del df con y sin outliers"
   ]
  },
  {
   "cell_type": "code",
   "execution_count": 15,
   "metadata": {},
   "outputs": [],
   "source": [
    "#Genero columna FR (Factor*Recuento) o concentración, este es el dato de interés\n",
    "\n",
    "fit_no_outliers[\"FR\"]=fit_no_outliers[\"Factor\"]*fit_no_outliers[\"Recuento\"]\n",
    "\n",
    "#fit_no_outliers.head()"
   ]
  },
  {
   "cell_type": "code",
   "execution_count": 16,
   "metadata": {},
   "outputs": [],
   "source": [
    "#Genero df_resumen\n",
    "#Contiene una linea por grupo\n",
    "\n",
    "#Evaluacion de parametros de centralizacion\n",
    "\n",
    "#Promedio FR\n",
    "\n",
    "df_resumen=fit_no_outliers.groupby([\"Bacteria\",\"Momento\",\"ATB\",\"Replica\",\"Dilucion\",\"Factor\"], as_index=False)[\"FR\"].mean().rename(columns={\"FR\":\"FR Promedio\"})\n",
    "\n",
    "df_resumen=df_resumen.sort_values([\"Momento\",\"ATB\",\"Replica\",\"Factor\"],ascending=[False,False,True,True]).reset_index(drop = True)\n",
    "#df_resumen"
   ]
  },
  {
   "cell_type": "code",
   "execution_count": 17,
   "metadata": {},
   "outputs": [],
   "source": [
    "#Mediana\n",
    "df_resumen[\"FR Mediana\"]=fit_no_outliers.groupby([\"Bacteria\",\"Momento\",\"ATB\",\"Replica\",\"Dilucion\",\"Factor\"], as_index=False)[\"FR\"].median().rename(columns={\"FR\":\"FR Mediana\"}).sort_values([\"Momento\",\"ATB\",\"Replica\",\"Factor\"],ascending=[False,False,True,True]).reset_index(drop = True)[\"FR Mediana\"]"
   ]
  },
  {
   "cell_type": "code",
   "execution_count": 18,
   "metadata": {},
   "outputs": [],
   "source": [
    "#Evaluacion de parametros de dispersion\n",
    "# Desviación\n",
    "df_resumen[\"FR Desviación\"]=fit_no_outliers.groupby([\"Bacteria\",\"Momento\",\"ATB\",\"Replica\",\"Dilucion\",\"Factor\"], as_index=False)[\"FR\"].std().rename(columns={\"FR\":\"FR Desviación\"}).sort_values([\"Momento\",\"ATB\",\"Replica\",\"Factor\"],ascending=[False,False,True,True]).reset_index(drop = True)[\"FR Desviación\"]"
   ]
  },
  {
   "cell_type": "code",
   "execution_count": 19,
   "metadata": {},
   "outputs": [],
   "source": [
    "#Varianza\n",
    "df_resumen[\"FR Varianza\"]=fit_no_outliers.groupby([\"Bacteria\",\"Momento\",\"ATB\",\"Replica\",\"Dilucion\",\"Factor\"], as_index=False)[\"FR\"].var().rename(columns={\"FR\":\"FR Varianza\"}).sort_values([\"Momento\",\"ATB\",\"Replica\",\"Factor\"],ascending=[False,False,True,True]).reset_index(drop = True)[\"FR Varianza\"]"
   ]
  },
  {
   "cell_type": "code",
   "execution_count": 20,
   "metadata": {},
   "outputs": [],
   "source": [
    "#Rango de valores\n",
    "#Quantil 75\n",
    "df_resumen[\"FR 0.75\"]=fit_no_outliers.groupby([\"Bacteria\",\"Momento\",\"ATB\",\"Replica\",\"Dilucion\",\"Factor\"], as_index=False)[\"FR\"].quantile(0.75).rename(columns={\"FR\":\"FR 0.75\"}).sort_values([\"Momento\",\"ATB\",\"Replica\",\"Factor\"],ascending=[False,False,True,True]).reset_index(drop = True)[\"FR 0.75\"]\n",
    "\n",
    "#Quantil 25\n",
    "df_resumen[\"FR 0.25\"]=fit_no_outliers.groupby([\"Bacteria\",\"Momento\",\"ATB\",\"Replica\",\"Dilucion\",\"Factor\"], as_index=False)[\"FR\"].quantile(0.25).rename(columns={\"FR\":\"FR 0.25\"}).sort_values([\"Momento\",\"ATB\",\"Replica\",\"Factor\"],ascending=[False,False,True,True]).reset_index(drop = True)[\"FR 0.25\"]\n",
    "\n",
    "#RI\n",
    "df_resumen[\"RI\"]=df_resumen[\"FR 0.75\"]-df_resumen[\"FR 0.25\"]"
   ]
  },
  {
   "cell_type": "code",
   "execution_count": 21,
   "metadata": {},
   "outputs": [],
   "source": [
    "# Elimino columnas Quantil 75 y 25, me quedo solo con el rango\n",
    "df_resumen=df_resumen.drop([\"FR 0.75\",\"FR 0.25\"], axis=1)"
   ]
  },
  {
   "cell_type": "code",
   "execution_count": 22,
   "metadata": {},
   "outputs": [],
   "source": [
    "df_resumen[\"FR Skewness\"]=fit_no_outliers.groupby([\"Bacteria\",\"Momento\",\"ATB\",\"Replica\",\"Dilucion\",\"Factor\"], as_index=False)[\"FR\"].skew().rename(columns={\"FR\":\"FR Skewness\"}).sort_values([\"Momento\",\"ATB\",\"Replica\",\"Factor\"],ascending=[False,False,True,True]).reset_index(drop = True)[\"FR Skewness\"]"
   ]
  },
  {
   "cell_type": "code",
   "execution_count": 23,
   "metadata": {},
   "outputs": [],
   "source": [
    "#df_resumen"
   ]
  },
  {
   "cell_type": "code",
   "execution_count": 24,
   "metadata": {},
   "outputs": [
    {
     "data": {
      "text/plain": [
       "<Figure size 640x480 with 0 Axes>"
      ]
     },
     "metadata": {},
     "output_type": "display_data"
    }
   ],
   "source": [
    "#Grafico FR según ATB y momento\n",
    "hist_groupby_save (fit_no_outliers, \"FR\", [\"ATB\",\"Momento\"])"
   ]
  },
  {
   "cell_type": "code",
   "execution_count": 25,
   "metadata": {},
   "outputs": [
    {
     "data": {
      "text/plain": [
       "<Figure size 640x480 with 0 Axes>"
      ]
     },
     "metadata": {},
     "output_type": "display_data"
    }
   ],
   "source": [
    "#Plot ATB=Nm momento=final, según réplica\n",
    "hist_groupby_save (fit_no_outliers[(fit_no_outliers[\"ATB\"]==\"Nm100\") & (fit_no_outliers[\"Momento\"]==\"final\")], \"FR\", [\"Bacteria\",\"Momento\",\"ATB\",\"Replica\"], opc_name=\"Nm\")"
   ]
  },
  {
   "cell_type": "code",
   "execution_count": 26,
   "metadata": {},
   "outputs": [
    {
     "data": {
      "text/plain": [
       "<Figure size 640x480 with 0 Axes>"
      ]
     },
     "metadata": {},
     "output_type": "display_data"
    }
   ],
   "source": [
    "#Plot ATB=Sm momento=final, según réplica\n",
    "hist_groupby_save (fit_no_outliers[(fit_no_outliers[\"ATB\"]==\"Sm400\") & (fit_no_outliers[\"Momento\"]==\"final\")], \"FR\", [\"Bacteria\",\"Momento\",\"ATB\",\"Replica\"], opc_name=\"Sm\")"
   ]
  },
  {
   "cell_type": "code",
   "execution_count": 27,
   "metadata": {},
   "outputs": [
    {
     "data": {
      "text/plain": [
       "<Figure size 640x480 with 0 Axes>"
      ]
     },
     "metadata": {},
     "output_type": "display_data"
    }
   ],
   "source": [
    "#Plot, momento = incial, según cada ATB\n",
    "hist_groupby_save (fit_no_outliers[(fit_no_outliers[\"Momento\"]==\"inicial\")], \"FR\", [\"Bacteria\",\"Momento\",\"ATB\",\"Replica\"])"
   ]
  },
  {
   "cell_type": "code",
   "execution_count": 28,
   "metadata": {},
   "outputs": [
    {
     "data": {
      "text/plain": [
       "<Figure size 640x480 with 0 Axes>"
      ]
     },
     "metadata": {},
     "output_type": "display_data"
    }
   ],
   "source": [
    "#Graficos momento =final, segun ATB, para cada réplica\n",
    "for i in range(4):\n",
    "    hist_groupby_save(fit_no_outliers[(fit_no_outliers[\"Replica\"]==i+1) & (fit_no_outliers[\"Momento\"]==\"final\")], \"FR\", [\"Bacteria\",\"Momento\",\"ATB\",\"Replica\"], opc_name=i+1)"
   ]
  },
  {
   "cell_type": "code",
   "execution_count": 29,
   "metadata": {},
   "outputs": [],
   "source": [
    "#Estimar los intervalos de confianza."
   ]
  },
  {
   "cell_type": "code",
   "execution_count": 30,
   "metadata": {},
   "outputs": [],
   "source": [
    "#Grupos basados en tabla sin outliers\n",
    "\n",
    "#Sm inicial 4 diluciones\n",
    "df_Sm_i_d0=fit_no_outliers[(fit_no_outliers[\"ATB\"]==\"Sm400\") & (fit_no_outliers[\"Momento\"]==\"inicial\") & (fit_no_outliers[\"Replica\"]==0) & (fit_no_outliers[\"Factor\"]==lista_fact_i[0])]\n",
    "df_Sm_i_d1=fit_no_outliers[(fit_no_outliers[\"ATB\"]==\"Sm400\") & (fit_no_outliers[\"Momento\"]==\"inicial\") & (fit_no_outliers[\"Replica\"]==0) & (fit_no_outliers[\"Factor\"]==lista_fact_i[1])]\n",
    "df_Sm_i_d2=fit_no_outliers[(fit_no_outliers[\"ATB\"]==\"Sm400\") & (fit_no_outliers[\"Momento\"]==\"inicial\") & (fit_no_outliers[\"Replica\"]==0) & (fit_no_outliers[\"Factor\"]==lista_fact_i[2])]\n",
    "df_Sm_i_d3=fit_no_outliers[(fit_no_outliers[\"ATB\"]==\"Sm400\") & (fit_no_outliers[\"Momento\"]==\"inicial\") & (fit_no_outliers[\"Replica\"]==0) & (fit_no_outliers[\"Factor\"]==lista_fact_i[3])]\n",
    "\n",
    "#Nm inicial 4 diluciones\n",
    "df_Nm_i_d0=fit_no_outliers[(fit_no_outliers[\"ATB\"]==\"Nm100\") & (fit_no_outliers[\"Momento\"]==\"inicial\") & (fit_no_outliers[\"Replica\"]==0) & (fit_no_outliers[\"Factor\"]==lista_fact_i[0])]\n",
    "df_Nm_i_d1=fit_no_outliers[(fit_no_outliers[\"ATB\"]==\"Nm100\") & (fit_no_outliers[\"Momento\"]==\"inicial\") & (fit_no_outliers[\"Replica\"]==0) & (fit_no_outliers[\"Factor\"]==lista_fact_i[1])]\n",
    "df_Nm_i_d2=fit_no_outliers[(fit_no_outliers[\"ATB\"]==\"Nm100\") & (fit_no_outliers[\"Momento\"]==\"inicial\") & (fit_no_outliers[\"Replica\"]==0) & (fit_no_outliers[\"Factor\"]==lista_fact_i[2])]\n",
    "df_Nm_i_d3=fit_no_outliers[(fit_no_outliers[\"ATB\"]==\"Nm100\") & (fit_no_outliers[\"Momento\"]==\"inicial\") & (fit_no_outliers[\"Replica\"]==0) & (fit_no_outliers[\"Factor\"]==lista_fact_i[3])]\n",
    "\n",
    "#Sm final répilica1 4 diluciones\n",
    "df_Sm_f_r1_d0=fit_no_outliers[(fit_no_outliers[\"ATB\"]==\"Sm400\") & (fit_no_outliers[\"Momento\"]==\"final\") & (fit_no_outliers[\"Replica\"]==1) & (fit_no_outliers[\"Factor\"]==lista_fact_f[0])]\n",
    "df_Sm_f_r1_d1=fit_no_outliers[(fit_no_outliers[\"ATB\"]==\"Sm400\") & (fit_no_outliers[\"Momento\"]==\"final\") & (fit_no_outliers[\"Replica\"]==1) & (fit_no_outliers[\"Factor\"]==lista_fact_f[1])]\n",
    "df_Sm_f_r1_d2=fit_no_outliers[(fit_no_outliers[\"ATB\"]==\"Sm400\") & (fit_no_outliers[\"Momento\"]==\"final\") & (fit_no_outliers[\"Replica\"]==1) & (fit_no_outliers[\"Factor\"]==lista_fact_f[2])]\n",
    "df_Sm_f_r1_d3=fit_no_outliers[(fit_no_outliers[\"ATB\"]==\"Sm400\") & (fit_no_outliers[\"Momento\"]==\"final\") & (fit_no_outliers[\"Replica\"]==1) & (fit_no_outliers[\"Factor\"]==lista_fact_f[3])]\n",
    "\n",
    "#Sm final répilica2 4 diluciones\n",
    "df_Sm_f_r2_d0=fit_no_outliers[(fit_no_outliers[\"ATB\"]==\"Sm400\") & (fit_no_outliers[\"Momento\"]==\"final\") & (fit_no_outliers[\"Replica\"]==2) & (fit_no_outliers[\"Factor\"]==lista_fact_f[0])]\n",
    "df_Sm_f_r2_d1=fit_no_outliers[(fit_no_outliers[\"ATB\"]==\"Sm400\") & (fit_no_outliers[\"Momento\"]==\"final\") & (fit_no_outliers[\"Replica\"]==2) & (fit_no_outliers[\"Factor\"]==lista_fact_f[1])]\n",
    "df_Sm_f_r2_d2=fit_no_outliers[(fit_no_outliers[\"ATB\"]==\"Sm400\") & (fit_no_outliers[\"Momento\"]==\"final\") & (fit_no_outliers[\"Replica\"]==2) & (fit_no_outliers[\"Factor\"]==lista_fact_f[2])]\n",
    "df_Sm_f_r2_d3=fit_no_outliers[(fit_no_outliers[\"ATB\"]==\"Sm400\") & (fit_no_outliers[\"Momento\"]==\"final\") & (fit_no_outliers[\"Replica\"]==2) & (fit_no_outliers[\"Factor\"]==lista_fact_f[3])]\n",
    "\n",
    "#Sm final répilica3 4 diluciones\n",
    "df_Sm_f_r3_d0=fit_no_outliers[(fit_no_outliers[\"ATB\"]==\"Sm400\") & (fit_no_outliers[\"Momento\"]==\"final\") & (fit_no_outliers[\"Replica\"]==3) & (fit_no_outliers[\"Factor\"]==lista_fact_f[0])]\n",
    "df_Sm_f_r3_d1=fit_no_outliers[(fit_no_outliers[\"ATB\"]==\"Sm400\") & (fit_no_outliers[\"Momento\"]==\"final\") & (fit_no_outliers[\"Replica\"]==3) & (fit_no_outliers[\"Factor\"]==lista_fact_f[1])]\n",
    "df_Sm_f_r3_d2=fit_no_outliers[(fit_no_outliers[\"ATB\"]==\"Sm400\") & (fit_no_outliers[\"Momento\"]==\"final\") & (fit_no_outliers[\"Replica\"]==3) & (fit_no_outliers[\"Factor\"]==lista_fact_f[2])]\n",
    "df_Sm_f_r3_d3=fit_no_outliers[(fit_no_outliers[\"ATB\"]==\"Sm400\") & (fit_no_outliers[\"Momento\"]==\"final\") & (fit_no_outliers[\"Replica\"]==3) & (fit_no_outliers[\"Factor\"]==lista_fact_f[3])]\n",
    "\n",
    "#Sm final répilica4 4 diluciones\n",
    "df_Sm_f_r4_d0=fit_no_outliers[(fit_no_outliers[\"ATB\"]==\"Sm400\") & (fit_no_outliers[\"Momento\"]==\"final\") & (fit_no_outliers[\"Replica\"]==4) & (fit_no_outliers[\"Factor\"]==lista_fact_f[0])]\n",
    "df_Sm_f_r4_d1=fit_no_outliers[(fit_no_outliers[\"ATB\"]==\"Sm400\") & (fit_no_outliers[\"Momento\"]==\"final\") & (fit_no_outliers[\"Replica\"]==4) & (fit_no_outliers[\"Factor\"]==lista_fact_f[1])]\n",
    "df_Sm_f_r4_d2=fit_no_outliers[(fit_no_outliers[\"ATB\"]==\"Sm400\") & (fit_no_outliers[\"Momento\"]==\"final\") & (fit_no_outliers[\"Replica\"]==4) & (fit_no_outliers[\"Factor\"]==lista_fact_f[2])]\n",
    "df_Sm_f_r4_d3=fit_no_outliers[(fit_no_outliers[\"ATB\"]==\"Sm400\") & (fit_no_outliers[\"Momento\"]==\"final\") & (fit_no_outliers[\"Replica\"]==4) & (fit_no_outliers[\"Factor\"]==lista_fact_f[3])]\n",
    "\n",
    "#Nm final répilica1 4 diluciones\n",
    "df_Nm_f_r1_d0=fit_no_outliers[(fit_no_outliers[\"ATB\"]==\"Nm100\") & (fit_no_outliers[\"Momento\"]==\"final\") & (fit_no_outliers[\"Replica\"]==1) & (fit_no_outliers[\"Factor\"]==lista_fact_f[0])]\n",
    "df_Nm_f_r1_d1=fit_no_outliers[(fit_no_outliers[\"ATB\"]==\"Nm100\") & (fit_no_outliers[\"Momento\"]==\"final\") & (fit_no_outliers[\"Replica\"]==1) & (fit_no_outliers[\"Factor\"]==lista_fact_f[1])]\n",
    "df_Nm_f_r1_d2=fit_no_outliers[(fit_no_outliers[\"ATB\"]==\"Nm100\") & (fit_no_outliers[\"Momento\"]==\"final\") & (fit_no_outliers[\"Replica\"]==1) & (fit_no_outliers[\"Factor\"]==lista_fact_f[2])]\n",
    "df_Nm_f_r1_d3=fit_no_outliers[(fit_no_outliers[\"ATB\"]==\"Nm100\") & (fit_no_outliers[\"Momento\"]==\"final\") & (fit_no_outliers[\"Replica\"]==1) & (fit_no_outliers[\"Factor\"]==lista_fact_f[3])]\n",
    "\n",
    "#Nm final répilica2 4 diluciones\n",
    "df_Nm_f_r2_d0=fit_no_outliers[(fit_no_outliers[\"ATB\"]==\"Nm100\") & (fit_no_outliers[\"Momento\"]==\"final\") & (fit_no_outliers[\"Replica\"]==2) & (fit_no_outliers[\"Factor\"]==lista_fact_f[0])]\n",
    "df_Nm_f_r2_d1=fit_no_outliers[(fit_no_outliers[\"ATB\"]==\"Nm100\") & (fit_no_outliers[\"Momento\"]==\"final\") & (fit_no_outliers[\"Replica\"]==2) & (fit_no_outliers[\"Factor\"]==lista_fact_f[1])]\n",
    "df_Nm_f_r2_d2=fit_no_outliers[(fit_no_outliers[\"ATB\"]==\"Nm100\") & (fit_no_outliers[\"Momento\"]==\"final\") & (fit_no_outliers[\"Replica\"]==2) & (fit_no_outliers[\"Factor\"]==lista_fact_f[2])]\n",
    "df_Nm_f_r2_d3=fit_no_outliers[(fit_no_outliers[\"ATB\"]==\"Nm100\") & (fit_no_outliers[\"Momento\"]==\"final\") & (fit_no_outliers[\"Replica\"]==2) & (fit_no_outliers[\"Factor\"]==lista_fact_f[3])]\n",
    "\n",
    "#Nm final répilica3 4 diluciones\n",
    "df_Nm_f_r3_d0=fit_no_outliers[(fit_no_outliers[\"ATB\"]==\"Nm100\") & (fit_no_outliers[\"Momento\"]==\"final\") & (fit_no_outliers[\"Replica\"]==3) & (fit_no_outliers[\"Factor\"]==lista_fact_f[0])]\n",
    "df_Nm_f_r3_d1=fit_no_outliers[(fit_no_outliers[\"ATB\"]==\"Nm100\") & (fit_no_outliers[\"Momento\"]==\"final\") & (fit_no_outliers[\"Replica\"]==3) & (fit_no_outliers[\"Factor\"]==lista_fact_f[1])]\n",
    "df_Nm_f_r3_d2=fit_no_outliers[(fit_no_outliers[\"ATB\"]==\"Nm100\") & (fit_no_outliers[\"Momento\"]==\"final\") & (fit_no_outliers[\"Replica\"]==3) & (fit_no_outliers[\"Factor\"]==lista_fact_f[2])]\n",
    "df_Nm_f_r3_d3=fit_no_outliers[(fit_no_outliers[\"ATB\"]==\"Nm100\") & (fit_no_outliers[\"Momento\"]==\"final\") & (fit_no_outliers[\"Replica\"]==3) & (fit_no_outliers[\"Factor\"]==lista_fact_f[3])]\n",
    "\n",
    "#Nm final répilica1 4 diluciones\n",
    "df_Nm_f_r4_d0=fit_no_outliers[(fit_no_outliers[\"ATB\"]==\"Nm100\") & (fit_no_outliers[\"Momento\"]==\"final\") & (fit_no_outliers[\"Replica\"]==4) & (fit_no_outliers[\"Factor\"]==lista_fact_f[0])]\n",
    "df_Nm_f_r4_d1=fit_no_outliers[(fit_no_outliers[\"ATB\"]==\"Nm100\") & (fit_no_outliers[\"Momento\"]==\"final\") & (fit_no_outliers[\"Replica\"]==4) & (fit_no_outliers[\"Factor\"]==lista_fact_f[1])]\n",
    "df_Nm_f_r4_d2=fit_no_outliers[(fit_no_outliers[\"ATB\"]==\"Nm100\") & (fit_no_outliers[\"Momento\"]==\"final\") & (fit_no_outliers[\"Replica\"]==4) & (fit_no_outliers[\"Factor\"]==lista_fact_f[2])]\n",
    "df_Nm_f_r4_d3=fit_no_outliers[(fit_no_outliers[\"ATB\"]==\"Nm100\") & (fit_no_outliers[\"Momento\"]==\"final\") & (fit_no_outliers[\"Replica\"]==4) & (fit_no_outliers[\"Factor\"]==lista_fact_f[3])]"
   ]
  },
  {
   "cell_type": "code",
   "execution_count": 31,
   "metadata": {},
   "outputs": [],
   "source": [
    "#Listas basadas en tabla sin outliers\n",
    "lista_df_Sm_i=[df_Sm_i_d0,df_Sm_i_d1,df_Sm_i_d2,df_Sm_i_d3]\n",
    "lista_df_Nm_i=[df_Nm_i_d0,df_Nm_i_d1,df_Nm_i_d2,df_Nm_i_d3]\n",
    "\n",
    "lista_df_Sm_f_r1=[df_Sm_f_r1_d0,df_Sm_f_r1_d1,df_Sm_f_r1_d2,df_Sm_f_r1_d3]\n",
    "lista_df_Sm_f_r2=[df_Sm_f_r2_d0,df_Sm_f_r2_d1,df_Sm_f_r2_d2,df_Sm_f_r2_d3]\n",
    "lista_df_Sm_f_r3=[df_Sm_f_r3_d0,df_Sm_f_r3_d1,df_Sm_f_r3_d2,df_Sm_f_r3_d3]\n",
    "lista_df_Sm_f_r4=[df_Sm_f_r4_d0,df_Sm_f_r4_d1,df_Sm_f_r4_d2,df_Sm_f_r4_d3]\n",
    "\n",
    "lista_df_Nm_f_r1=[df_Nm_f_r1_d0,df_Nm_f_r1_d1,df_Nm_f_r1_d2,df_Nm_f_r1_d3]\n",
    "lista_df_Nm_f_r2=[df_Nm_f_r2_d0,df_Nm_f_r2_d1,df_Nm_f_r2_d2,df_Nm_f_r2_d3]\n",
    "lista_df_Nm_f_r3=[df_Nm_f_r3_d0,df_Nm_f_r3_d1,df_Nm_f_r3_d2,df_Nm_f_r3_d3]\n",
    "lista_df_Nm_f_r4=[df_Nm_f_r4_d0,df_Nm_f_r4_d1,df_Nm_f_r4_d2,df_Nm_f_r4_d3]\n",
    "\n",
    "lista_df_i = lista_df_Sm_i + lista_df_Nm_i\n",
    "lista_df_Sm_f = lista_df_Sm_f_r1 + lista_df_Sm_f_r2 + lista_df_Sm_f_r3 + lista_df_Sm_f_r4\n",
    "lista_df_Nm_f = lista_df_Nm_f_r1 + lista_df_Nm_f_r2 + lista_df_Nm_f_r3 + lista_df_Nm_f_r4\n",
    "\n",
    "lista_df= lista_df_i + lista_df_Sm_f + lista_df_Nm_f"
   ]
  },
  {
   "cell_type": "code",
   "execution_count": 32,
   "metadata": {},
   "outputs": [],
   "source": [
    "# IC 95\n",
    "#Genero una lista con cada uno de los IC 95 para cada grupo\n",
    "lista_IC=[]\n",
    "for grupo in lista_df:\n",
    "    #Solo grupos con datos\n",
    "    if len(grupo) > 0:\n",
    "        lista_IC.append(ss.t.interval(alpha= 0.95, df= len(grupo[\"FR\"]) -1, loc=np.mean(grupo[\"FR\"]), scale=ss.sem(grupo[\"FR\"])))\n"
   ]
  },
  {
   "cell_type": "code",
   "execution_count": 33,
   "metadata": {},
   "outputs": [
    {
     "name": "stderr",
     "output_type": "stream",
     "text": [
      "C:\\Users\\Abril\\AppData\\Local\\Temp\\ipykernel_16056\\1644756296.py:10: SettingWithCopyWarning: \n",
      "A value is trying to be set on a copy of a slice from a DataFrame\n",
      "\n",
      "See the caveats in the documentation: https://pandas.pydata.org/pandas-docs/stable/user_guide/indexing.html#returning-a-view-versus-a-copy\n",
      "  df[col][i]= str(valor)\n",
      "c:\\Users\\Abril\\AppData\\Local\\Programs\\Python\\Python39\\lib\\site-packages\\pandas\\core\\indexing.py:1732: SettingWithCopyWarning: \n",
      "A value is trying to be set on a copy of a slice from a DataFrame\n",
      "\n",
      "See the caveats in the documentation: https://pandas.pydata.org/pandas-docs/stable/user_guide/indexing.html#returning-a-view-versus-a-copy\n",
      "  self._setitem_single_block(indexer, value, name)\n"
     ]
    }
   ],
   "source": [
    "#Agrego IC95 al df_resumen\n",
    "lista_a_coldf (lista_IC, df_resumen, \"IC 95\")"
   ]
  },
  {
   "cell_type": "code",
   "execution_count": 34,
   "metadata": {},
   "outputs": [
    {
     "name": "stdout",
     "output_type": "stream",
     "text": [
      "El tamaño muestral/cantidad de gotas necesaria por grupo es: 4\n"
     ]
    }
   ],
   "source": [
    "#Evalúo el tamaño de muestra/cant de gotas necesario dentro de cada gota\n",
    "#Me quedo con el mayor valor\n",
    "tam_muest=0\n",
    "for grupo in lista_df:\n",
    "    #Solo grupos con datos\n",
    "    if len(grupo) > 0 :\n",
    "        effect_size = abs((grupo[\"FR\"].max()-grupo[\"FR\"].min())/grupo[\"FR\"].std())   # diferencia de medias esperada\n",
    "        alpha = 0.05      # nivel de significancia\n",
    "        power = 0.8       # potencia\n",
    "        ratio = 1         # relación entre los tamaños de las muestras\n",
    "        n = smp.tt_ind_solve_power(effect_size=effect_size, alpha=alpha, power=power, ratio=ratio)\n",
    "        if n > tam_muest:\n",
    "            tam_muest = n\n",
    "print(\"El tamaño muestral/cantidad de gotas necesaria por grupo es:\", round(tam_muest))"
   ]
  },
  {
   "cell_type": "code",
   "execution_count": 35,
   "metadata": {},
   "outputs": [
    {
     "name": "stderr",
     "output_type": "stream",
     "text": [
      "c:\\Users\\Abril\\AppData\\Local\\Programs\\Python\\Python39\\lib\\site-packages\\scipy\\stats\\stats.py:1541: UserWarning: kurtosistest only valid for n>=20 ... continuing anyway, n=10\n",
      "  warnings.warn(\"kurtosistest only valid for n>=20 ... continuing \"\n",
      "c:\\Users\\Abril\\AppData\\Local\\Programs\\Python\\Python39\\lib\\site-packages\\scipy\\stats\\stats.py:1541: UserWarning: kurtosistest only valid for n>=20 ... continuing anyway, n=9\n",
      "  warnings.warn(\"kurtosistest only valid for n>=20 ... continuing \"\n",
      "c:\\Users\\Abril\\AppData\\Local\\Programs\\Python\\Python39\\lib\\site-packages\\scipy\\stats\\stats.py:1541: UserWarning: kurtosistest only valid for n>=20 ... continuing anyway, n=8\n",
      "  warnings.warn(\"kurtosistest only valid for n>=20 ... continuing \"\n"
     ]
    },
    {
     "name": "stdout",
     "output_type": "stream",
     "text": [
      "Resultados Normaltest, cant normal:  34 cant no normal: 1\n",
      "Resultados Shapirotest, cant normal:  32 cant no normal: 3\n"
     ]
    }
   ],
   "source": [
    "# Test de distribución\n",
    "# En este paso cuento cuántas distribuciones me dan normales y cuantas no\n",
    "# Al evaluarlo por el normaltest y el shapiro test\n",
    "cant_normal_nt=0\n",
    "cant_nonormal_nt=0\n",
    "\n",
    "cant_normal_st=0\n",
    "cant_nonormal_st=0\n",
    "\n",
    "for grupo in lista_df:\n",
    "    #Solo grupos con datos\n",
    "    if len(grupo) > 0 :\n",
    "        if ss.normaltest(grupo[\"FR\"], axis=0, nan_policy='propagate')[1] > 0.05 :\n",
    "            cant_normal_nt += 1\n",
    "        if ss.normaltest(grupo[\"FR\"], axis=0, nan_policy='propagate')[1] < 0.05 :\n",
    "            cant_nonormal_nt += 1\n",
    "        if ss.shapiro(grupo[\"FR\"])[1] > 0.05 :\n",
    "             cant_normal_st += 1\n",
    "        if ss.shapiro(grupo[\"FR\"])[1] < 0.05 :\n",
    "             cant_nonormal_st += 1\n",
    "print (\"Resultados Normaltest, cant normal: \",cant_normal_nt, \"cant no normal:\", cant_nonormal_nt)\n",
    "print (\"Resultados Shapirotest, cant normal: \",cant_normal_st, \"cant no normal:\", cant_nonormal_st)\n",
    "\n",
    "#Veo que la mayoría de las distribuciones son normales\n",
    "# Porque pvalue > 0.05 y no rechazo h0"
   ]
  },
  {
   "cell_type": "code",
   "execution_count": 36,
   "metadata": {},
   "outputs": [],
   "source": [
    "# Test de distribución\n",
    "# Genero una lista con los valores del pvalue del normaltest\n",
    "\n",
    "lista_pvalue_norm=[]\n",
    "\n",
    "for grupo in lista_df:\n",
    "    #Solo grupos con datos\n",
    "    if len(grupo) > 0 :\n",
    "        lista_pvalue_norm.append(ss.normaltest(grupo[\"FR\"], axis=0, nan_policy='propagate')[1])"
   ]
  },
  {
   "cell_type": "code",
   "execution_count": 37,
   "metadata": {},
   "outputs": [
    {
     "name": "stderr",
     "output_type": "stream",
     "text": [
      "C:\\Users\\Abril\\AppData\\Local\\Temp\\ipykernel_16056\\1644756296.py:10: SettingWithCopyWarning: \n",
      "A value is trying to be set on a copy of a slice from a DataFrame\n",
      "\n",
      "See the caveats in the documentation: https://pandas.pydata.org/pandas-docs/stable/user_guide/indexing.html#returning-a-view-versus-a-copy\n",
      "  df[col][i]= str(valor)\n"
     ]
    }
   ],
   "source": [
    "#Agrego una columna con los valores del pvalue del test de normalidad al df_resumen\n",
    "lista_a_coldf (lista_pvalue_norm, df_resumen, \"pvalue normalidad\")"
   ]
  },
  {
   "cell_type": "code",
   "execution_count": 38,
   "metadata": {},
   "outputs": [],
   "source": [
    "#Exporto el df_resumen como un excel\n",
    "df_resumen.to_excel(\"df_resumen.xlsx\")"
   ]
  },
  {
   "cell_type": "code",
   "execution_count": 39,
   "metadata": {},
   "outputs": [],
   "source": [
    "#Genero dataframes para cada una de las réplicas\n",
    "\n",
    "df_Sm_f_r1=df_Sm_f_r1_d0.append(df_Sm_f_r1_d1.append(df_Sm_f_r1_d2.append(df_Sm_f_r1_d3)))\n",
    "df_Sm_f_r2=df_Sm_f_r2_d0.append(df_Sm_f_r2_d1.append(df_Sm_f_r2_d2.append(df_Sm_f_r2_d3)))\n",
    "df_Sm_f_r3=df_Sm_f_r3_d0.append(df_Sm_f_r3_d1.append(df_Sm_f_r3_d2.append(df_Sm_f_r3_d3)))\n",
    "df_Sm_f_r4=df_Sm_f_r4_d0.append(df_Sm_f_r4_d1.append(df_Sm_f_r4_d2.append(df_Sm_f_r4_d3)))\n",
    "\n",
    "df_Nm_f_r1=df_Nm_f_r1_d0.append(df_Nm_f_r1_d1.append(df_Nm_f_r1_d2.append(df_Nm_f_r1_d3)))\n",
    "df_Nm_f_r2=df_Nm_f_r2_d0.append(df_Nm_f_r2_d1.append(df_Nm_f_r2_d2.append(df_Nm_f_r2_d3)))\n",
    "df_Nm_f_r3=df_Nm_f_r3_d0.append(df_Nm_f_r3_d1.append(df_Nm_f_r3_d2.append(df_Nm_f_r3_d3)))\n",
    "df_Nm_f_r4=df_Nm_f_r4_d0.append(df_Nm_f_r4_d1.append(df_Nm_f_r4_d2))\n",
    "# Excluyo f_Nm_f_r4_d3 porque no tiene distribución normal\n",
    "\n",
    "#Genero listas de los dataframes para cada ATB en el momento final\n",
    "lista_Sm_f=[df_Sm_f_r1,df_Sm_f_r2,df_Sm_f_r3,df_Sm_f_r4]\n",
    "lista_Nm_f=[df_Nm_f_r1,df_Nm_f_r2,df_Nm_f_r3,df_Nm_f_r4]"
   ]
  },
  {
   "cell_type": "code",
   "execution_count": 40,
   "metadata": {},
   "outputs": [],
   "source": [
    "#Este dataframe tendrá los resultados de los tests siguientes\n",
    "\n",
    "df_hip=pd.DataFrame()\n",
    "\n",
    "df_hip[\"Replica\"]=[1,2,3,4]"
   ]
  },
  {
   "cell_type": "code",
   "execution_count": 41,
   "metadata": {},
   "outputs": [],
   "source": [
    "#Levene para evaluar similitud de varianzas\n",
    "\n",
    "lista_levene_pvalue=[]\n",
    "#Comparo para réplica a réplica, los 2 ATB\n",
    "for i in range(4):\n",
    "    lista_levene_pvalue.append(ss.levene(lista_Sm_f[i][\"FR\"], lista_Nm_f[i][\"FR\"], center='median', proportiontocut=0.05)[1])\n",
    "\n",
    "#Pvalue<0.05, rechazo h0, las varianzas son distinas"
   ]
  },
  {
   "cell_type": "code",
   "execution_count": 42,
   "metadata": {},
   "outputs": [],
   "source": [
    "lista_a_coldf (lista_levene_pvalue, df_hip, \"Levene pvalue\")"
   ]
  },
  {
   "cell_type": "code",
   "execution_count": 43,
   "metadata": {},
   "outputs": [],
   "source": [
    "# Prueba de Welch para comparar medias entre ATB\n",
    "# Welch es como t-test solo que equal_var=False\n",
    "\n",
    "lista_welch_pvalue_ATB=[]\n",
    "#Comparo para réplica a réplica, los 2 ATB\n",
    "for i in range(4):\n",
    "    lista_welch_pvalue_ATB.append(ss.ttest_ind(lista_Sm_f[i][\"FR\"], lista_Nm_f[i][\"FR\"], axis=0, equal_var=False, nan_policy='propagate')[1])\n",
    "#Pvalue<0.05, no rechazo h0, las medias son iguales"
   ]
  },
  {
   "cell_type": "code",
   "execution_count": 44,
   "metadata": {},
   "outputs": [
    {
     "name": "stderr",
     "output_type": "stream",
     "text": [
      "C:\\Users\\Abril\\AppData\\Local\\Temp\\ipykernel_16056\\1644756296.py:10: SettingWithCopyWarning: \n",
      "A value is trying to be set on a copy of a slice from a DataFrame\n",
      "\n",
      "See the caveats in the documentation: https://pandas.pydata.org/pandas-docs/stable/user_guide/indexing.html#returning-a-view-versus-a-copy\n",
      "  df[col][i]= str(valor)\n"
     ]
    }
   ],
   "source": [
    "lista_a_coldf (lista_welch_pvalue_ATB, df_hip, \"Welch ATB pvalue\")"
   ]
  },
  {
   "cell_type": "code",
   "execution_count": 45,
   "metadata": {},
   "outputs": [],
   "source": [
    "# Prueba de Welch para comparar medias entre Bacterias\n",
    "# 20MP6= Sm(total)-Nm(plasmido)\n",
    "# plásmido=Nm\n",
    "lista_welch_pvalue=[]\n",
    "#Comparo para réplica a réplica, las 2 Bacterias\n",
    "for i in range(4):\n",
    "    mean_Sm = lista_Sm_f[i][\"FR\"].mean()\n",
    "    std_Sm = lista_Sm_f[i][\"FR\"].std()\n",
    "    count_Sm = lista_Sm_f[i][\"FR\"].count()\n",
    "    mean_dif = lista_Nm_f[i][\"FR\"].mean() - lista_Sm_f[i][\"FR\"].mean()\n",
    "    std_dif =  lista_Nm_f[i][\"FR\"].std() + lista_Sm_f[i][\"FR\"].std()\n",
    "    count_dif = lista_Nm_f[i][\"FR\"].count()\n",
    "    lista_welch_pvalue.append(ss.ttest_ind_from_stats(mean_Sm, std_Sm, count_Sm, mean_dif, std_dif, count_dif, equal_var=False)[1])\n",
    "\n",
    "#Pvalue<0.05, rechazo h0, las medias son iguales"
   ]
  },
  {
   "cell_type": "code",
   "execution_count": 46,
   "metadata": {},
   "outputs": [
    {
     "name": "stderr",
     "output_type": "stream",
     "text": [
      "C:\\Users\\Abril\\AppData\\Local\\Temp\\ipykernel_16056\\1644756296.py:10: SettingWithCopyWarning: \n",
      "A value is trying to be set on a copy of a slice from a DataFrame\n",
      "\n",
      "See the caveats in the documentation: https://pandas.pydata.org/pandas-docs/stable/user_guide/indexing.html#returning-a-view-versus-a-copy\n",
      "  df[col][i]= str(valor)\n"
     ]
    }
   ],
   "source": [
    "lista_a_coldf (lista_welch_pvalue, df_hip, \"Welch Bact pvalue\")"
   ]
  },
  {
   "cell_type": "code",
   "execution_count": 47,
   "metadata": {},
   "outputs": [],
   "source": [
    "#Evaluar el ajuste de una recta de regresión e interpretar el coeficiente de correlación"
   ]
  },
  {
   "cell_type": "code",
   "execution_count": 48,
   "metadata": {},
   "outputs": [],
   "source": [
    "# Coeficiente de correlación de Pearson\n",
    "# Las variables deben tener el mismo largo\n",
    "# Genero un sampleo de la más grande del tamaño de la más chica\n",
    "lista_pearson_pvalue=[]\n",
    "lista_pearson_stat=[]\n",
    "#Comparo para réplica a réplica, los 2 ATB\n",
    "for i in range(4):\n",
    "    n_corto=0\n",
    "    if len(lista_Sm_f[i][\"FR\"]) > len(lista_Nm_f[i][\"FR\"]):\n",
    "        # Genero un sampleo de la más grande del tamaño de la más chica\n",
    "        n_corto = len(lista_Nm_f[i][\"FR\"])\n",
    "        lista_Sm_f_sample=lista_Sm_f[i].sample(n_corto)\n",
    "        lista_pearson_pvalue.append(ss.pearsonr(lista_Sm_f_sample[\"FR\"], lista_Nm_f[i][\"FR\"])[1])\n",
    "        lista_pearson_stat.append(ss.pearsonr(lista_Sm_f_sample[\"FR\"], lista_Nm_f[i][\"FR\"])[0])\n",
    "    else:\n",
    "    #    len(lista_Sm_f[i][\"FR\"]) < len(lista_Nm_f[i][\"FR\"])\n",
    "        # Genero un sampleo de la más grande del tamaño de la más chica\n",
    "        n_corto = len(lista_Sm_f[i][\"FR\"])\n",
    "        lista_Nm_f_sample=lista_Nm_f[i].sample(n_corto)\n",
    "        lista_pearson_pvalue.append(ss.pearsonr(lista_Sm_f[i][\"FR\"], lista_Nm_f_sample[\"FR\"])[1])\n",
    "        lista_pearson_stat.append(ss.pearsonr(lista_Sm_f[i][\"FR\"], lista_Nm_f_sample[\"FR\"])[0])\n",
    "#H0= No correlacionados\n",
    "#pvalue>0.05 = no rechazo h0 = no correlacionados"
   ]
  },
  {
   "cell_type": "code",
   "execution_count": 49,
   "metadata": {},
   "outputs": [
    {
     "name": "stderr",
     "output_type": "stream",
     "text": [
      "C:\\Users\\Abril\\AppData\\Local\\Temp\\ipykernel_16056\\1644756296.py:10: SettingWithCopyWarning: \n",
      "A value is trying to be set on a copy of a slice from a DataFrame\n",
      "\n",
      "See the caveats in the documentation: https://pandas.pydata.org/pandas-docs/stable/user_guide/indexing.html#returning-a-view-versus-a-copy\n",
      "  df[col][i]= str(valor)\n"
     ]
    }
   ],
   "source": [
    "lista_a_coldf (lista_pearson_stat, df_hip, \"Pearson stat\")\n",
    "lista_a_coldf (lista_pearson_pvalue, df_hip, \"Pearson pvalue\")"
   ]
  },
  {
   "cell_type": "code",
   "execution_count": 50,
   "metadata": {},
   "outputs": [],
   "source": [
    "df_hip.to_excel(\"df_hip.xlsx\")"
   ]
  },
  {
   "cell_type": "code",
   "execution_count": 51,
   "metadata": {},
   "outputs": [
    {
     "name": "stderr",
     "output_type": "stream",
     "text": [
      "c:\\Users\\Abril\\AppData\\Local\\Programs\\Python\\Python39\\lib\\site-packages\\seaborn\\_decorators.py:36: FutureWarning: Pass the following variables as keyword args: x, y. From version 0.12, the only valid positional argument will be `data`, and passing other arguments without an explicit keyword will result in an error or misinterpretation.\n",
      "  warnings.warn(\n",
      "c:\\Users\\Abril\\AppData\\Local\\Programs\\Python\\Python39\\lib\\site-packages\\seaborn\\_decorators.py:36: FutureWarning: Pass the following variables as keyword args: x, y. From version 0.12, the only valid positional argument will be `data`, and passing other arguments without an explicit keyword will result in an error or misinterpretation.\n",
      "  warnings.warn(\n",
      "c:\\Users\\Abril\\AppData\\Local\\Programs\\Python\\Python39\\lib\\site-packages\\seaborn\\_decorators.py:36: FutureWarning: Pass the following variables as keyword args: x, y. From version 0.12, the only valid positional argument will be `data`, and passing other arguments without an explicit keyword will result in an error or misinterpretation.\n",
      "  warnings.warn(\n",
      "c:\\Users\\Abril\\AppData\\Local\\Programs\\Python\\Python39\\lib\\site-packages\\seaborn\\_decorators.py:36: FutureWarning: Pass the following variables as keyword args: x, y. From version 0.12, the only valid positional argument will be `data`, and passing other arguments without an explicit keyword will result in an error or misinterpretation.\n",
      "  warnings.warn(\n"
     ]
    },
    {
     "data": {
      "text/plain": [
       "<Figure size 640x480 with 0 Axes>"
      ]
     },
     "metadata": {},
     "output_type": "display_data"
    }
   ],
   "source": [
    "#Plot\n",
    "# Las variables deben tener el mismo largo\n",
    "# Genero un sampleo de la más grande del tamaño de la más chica\n",
    "#Comparo para réplica a réplica, los 2 ATB\n",
    "for i in range(4):\n",
    "    n_corto=0\n",
    "    if len(lista_Sm_f[i][\"FR\"]) > len(lista_Nm_f[i][\"FR\"]):\n",
    "        # Genero un sampleo de la más grande del tamaño de la más chica\n",
    "        n_corto = len(lista_Nm_f[i][\"FR\"])\n",
    "        lista_Sm_f_sample=lista_Sm_f[i].sample(n_corto)\n",
    "        sns.regplot(lista_Sm_f_sample[\"FR\"],lista_Nm_f[i][\"FR\"])\n",
    "        plt.title(\"Replica \"+str(i+1))\n",
    "        plt.savefig(\"Regresion_lineal_Replica_\"+str(i+1)+\".png\")\n",
    "        plt.clf()\n",
    "    else:\n",
    "    #    len(lista_Sm_f[i][\"FR\"]) < len(lista_Nm_f[i][\"FR\"])\n",
    "        # Genero un sampleo de la más grande del tamaño de la más chica\n",
    "        n_corto = len(lista_Sm_f[i][\"FR\"])\n",
    "        lista_Nm_f_sample=lista_Nm_f[i].sample(n_corto)\n",
    "        sns.regplot(lista_Sm_f[i][\"FR\"], lista_Nm_f_sample[\"FR\"])\n",
    "        plt.title(\"Replica \"+str(i+1))\n",
    "        plt.savefig(\"Regresion_lineal_Replica_\"+str(i+1)+\".png\")\n",
    "        plt.clf()"
   ]
  },
  {
   "cell_type": "code",
   "execution_count": 52,
   "metadata": {},
   "outputs": [],
   "source": [
    "### Transformación a datos categóricos"
   ]
  },
  {
   "cell_type": "code",
   "execution_count": 53,
   "metadata": {},
   "outputs": [],
   "source": [
    "fit_categorico=fit_no_outliers.reset_index()"
   ]
  },
  {
   "cell_type": "code",
   "execution_count": 54,
   "metadata": {},
   "outputs": [],
   "source": [
    "# Tengo en cuenta el grupo que había dejado afuera pq no tenía distribución normal\n",
    "df_Nm_f_r4=df_Nm_f_r4_d0.append(df_Nm_f_r4_d1.append(df_Nm_f_r4_d2.append(df_Nm_f_r4_d3)))\n",
    "\n",
    "#Genero listas de los dataframes para cada ATB en el momento final\n",
    "lista_Nm_f=[df_Nm_f_r1,df_Nm_f_r2,df_Nm_f_r3,df_Nm_f_r4]"
   ]
  },
  {
   "cell_type": "code",
   "execution_count": 55,
   "metadata": {},
   "outputs": [],
   "source": [
    "#Genero un dataframe para cada uno de los ATB en el momento inicial\n",
    "df_Sm_i=df_Sm_i_d0.append(df_Sm_i_d1.append(df_Sm_i_d2.append(df_Sm_i_d3)))\n",
    "df_Nm_i=df_Nm_i_d0.append(df_Nm_i_d1.append(df_Nm_i_d2.append(df_Nm_i_d3)))\n",
    "\n",
    "#Genero una lista en la que cada elemento es un dataframe correspondiente a una réplica\n",
    "# Momento, ATB y réplica determinada (todas las diluciones juntas)\n",
    "lista_df2=[df_Sm_i,df_Nm_i]+lista_Sm_f+lista_Nm_f\n",
    "\n",
    "#len(lista_df2)"
   ]
  },
  {
   "cell_type": "code",
   "execution_count": 56,
   "metadata": {},
   "outputs": [
    {
     "data": {
      "text/plain": [
       "331"
      ]
     },
     "execution_count": 56,
     "metadata": {},
     "output_type": "execute_result"
    }
   ],
   "source": [
    "#Genero una lista con los valores de la nueva variable categorica\n",
    "lista_cat=[]\n",
    "for replica in lista_df2:\n",
    "    for valor in replica[\"FR\"]:\n",
    "        if valor > replica[\"FR\"].mean():\n",
    "            lista_cat.append(\"Alto\")\n",
    "        else:\n",
    "            lista_cat.append(\"Bajo\")\n",
    "len(lista_cat)"
   ]
  },
  {
   "cell_type": "code",
   "execution_count": 57,
   "metadata": {},
   "outputs": [
    {
     "name": "stderr",
     "output_type": "stream",
     "text": [
      "C:\\Users\\Abril\\AppData\\Local\\Temp\\ipykernel_16056\\1644756296.py:10: SettingWithCopyWarning: \n",
      "A value is trying to be set on a copy of a slice from a DataFrame\n",
      "\n",
      "See the caveats in the documentation: https://pandas.pydata.org/pandas-docs/stable/user_guide/indexing.html#returning-a-view-versus-a-copy\n",
      "  df[col][i]= str(valor)\n",
      "c:\\Users\\Abril\\AppData\\Local\\Programs\\Python\\Python39\\lib\\site-packages\\pandas\\core\\indexing.py:1732: SettingWithCopyWarning: \n",
      "A value is trying to be set on a copy of a slice from a DataFrame\n",
      "\n",
      "See the caveats in the documentation: https://pandas.pydata.org/pandas-docs/stable/user_guide/indexing.html#returning-a-view-versus-a-copy\n",
      "  self._setitem_single_block(indexer, value, name)\n"
     ]
    }
   ],
   "source": [
    "#Agrego los valores de la variable \"Categorico\" como una columna del df\n",
    "lista_a_coldf (lista_cat, fit_categorico, \"Categorico\")"
   ]
  },
  {
   "cell_type": "code",
   "execution_count": 58,
   "metadata": {},
   "outputs": [],
   "source": [
    "#fit_categorico.to_excel(\"df_PRUEBA.xlsx\")"
   ]
  },
  {
   "cell_type": "code",
   "execution_count": null,
   "metadata": {},
   "outputs": [],
   "source": [
    "# Análisis de dependencia de variables categóricas"
   ]
  },
  {
   "cell_type": "code",
   "execution_count": 68,
   "metadata": {},
   "outputs": [
    {
     "name": "stderr",
     "output_type": "stream",
     "text": [
      "c:\\Users\\Abril\\AppData\\Local\\Programs\\Python\\Python39\\lib\\site-packages\\seaborn\\_decorators.py:36: FutureWarning: Pass the following variables as keyword args: x, y. From version 0.12, the only valid positional argument will be `data`, and passing other arguments without an explicit keyword will result in an error or misinterpretation.\n",
      "  warnings.warn(\n"
     ]
    },
    {
     "data": {
      "text/plain": [
       "<Figure size 640x480 with 0 Axes>"
      ]
     },
     "metadata": {},
     "output_type": "display_data"
    }
   ],
   "source": [
    "cuenta_cat=fit_categorico[\"Categorico\"].value_counts()\n",
    "sns.barplot(cuenta_cat.index, cuenta_cat.values)\n",
    "plt.title(\"Distribución de la variable categórica\")\n",
    "plt.ylabel(\"Cantidad de ocurrencias\")\n",
    "plt.xlabel(\"Valor\")\n",
    "plt.savefig(\"Distribución de la variable categórica.png\")\n",
    "plt.clf()\n"
   ]
  },
  {
   "cell_type": "code",
   "execution_count": 69,
   "metadata": {},
   "outputs": [
    {
     "name": "stderr",
     "output_type": "stream",
     "text": [
      "c:\\Users\\Abril\\AppData\\Local\\Programs\\Python\\Python39\\lib\\site-packages\\seaborn\\_decorators.py:36: FutureWarning: Pass the following variables as keyword args: x, y. From version 0.12, the only valid positional argument will be `data`, and passing other arguments without an explicit keyword will result in an error or misinterpretation.\n",
      "  warnings.warn(\n"
     ]
    },
    {
     "data": {
      "text/plain": [
       "<Figure size 640x480 with 0 Axes>"
      ]
     },
     "metadata": {},
     "output_type": "display_data"
    }
   ],
   "source": [
    "cuenta_ATB=fit_categorico[\"ATB\"].value_counts()\n",
    "sns.barplot(cuenta_ATB.index, cuenta_ATB.values)\n",
    "plt.title(\"Distribución de la variable ATB\")\n",
    "plt.ylabel(\"Cantidad de ocurrencias\")\n",
    "plt.xlabel(\"Valor\")\n",
    "plt.savefig(\"Distribución de la variable ATB.png\")\n",
    "plt.clf()"
   ]
  },
  {
   "cell_type": "code",
   "execution_count": 70,
   "metadata": {},
   "outputs": [],
   "source": [
    "df_contig = fit_categorico [\"Categorico\"] + fit_categorico [\"ATB\"]"
   ]
  },
  {
   "cell_type": "code",
   "execution_count": 72,
   "metadata": {},
   "outputs": [],
   "source": [
    "a = fit_categorico [\"Categorico\"] == \"Alto\"\n",
    "b = fit_categorico [\"ATB\"] == \"Sm400\""
   ]
  },
  {
   "cell_type": "code",
   "execution_count": 73,
   "metadata": {},
   "outputs": [
    {
     "name": "stdout",
     "output_type": "stream",
     "text": [
      "Categorico  ATB  \n",
      "False       False    76\n",
      "            True     97\n",
      "True        False    75\n",
      "            True     83\n",
      "dtype: int64\n"
     ]
    }
   ],
   "source": [
    "#comparamos los datos en una tabla de contingencia\n",
    "groups = df_contig.groupby([a,b]).count() \n",
    "print (groups)"
   ]
  },
  {
   "cell_type": "code",
   "execution_count": 76,
   "metadata": {},
   "outputs": [
    {
     "name": "stdout",
     "output_type": "stream",
     "text": [
      "Power_divergenceResult(statistic=3.7311178247734142, pvalue=0.2920005877736896)\n"
     ]
    }
   ],
   "source": [
    "#Test de comparación de datos cualitativos\n",
    "print(ss.chisquare(groups, ddof=0, axis=0))"
   ]
  },
  {
   "cell_type": "code",
   "execution_count": null,
   "metadata": {},
   "outputs": [],
   "source": [
    "#Ho=Sí hay independencia entre las variables (p>0,05)\n",
    "#H1=No hay independencia entre las variables (p<0,05), o bien las variables son dependientes.\n",
    "\n",
    "#pvalue=0.3 < 0.05 = H1= las variables son dependientes"
   ]
  }
 ],
 "metadata": {
  "kernelspec": {
   "display_name": "Python 3",
   "language": "python",
   "name": "python3"
  },
  "language_info": {
   "codemirror_mode": {
    "name": "ipython",
    "version": 3
   },
   "file_extension": ".py",
   "mimetype": "text/x-python",
   "name": "python",
   "nbconvert_exporter": "python",
   "pygments_lexer": "ipython3",
   "version": "3.9.6"
  },
  "orig_nbformat": 4
 },
 "nbformat": 4,
 "nbformat_minor": 2
}
